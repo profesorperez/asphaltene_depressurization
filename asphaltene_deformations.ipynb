{
 "cells": [
  {
   "cell_type": "markdown",
   "id": "dd9ea296",
   "metadata": {},
   "source": [
    "# Asphaltene deformation"
   ]
  },
  {
   "cell_type": "code",
   "execution_count": 1,
   "id": "d51d2354",
   "metadata": {},
   "outputs": [],
   "source": [
    "import numpy as np\n",
    "import matplotlib.pyplot as plt\n",
    "import pandas as pd"
   ]
  },
  {
   "cell_type": "markdown",
   "id": "01f10e00",
   "metadata": {},
   "source": [
    "## Functions"
   ]
  },
  {
   "cell_type": "code",
   "execution_count": 2,
   "id": "aea02b88",
   "metadata": {},
   "outputs": [],
   "source": [
    "def read_file(file_in):\n",
    "  \"\"\"\n",
    "  Read file\n",
    "\n",
    "  Parameters\n",
    "  ----------\n",
    "  file_in : string\n",
    "    File (path and name) to be read\n",
    "\n",
    "  Returns\n",
    "  -------\n",
    "  temp_data : list\n",
    "    List of lists with the words in every line of the file read\n",
    "\n",
    "  \"\"\"\n",
    "\n",
    "  temp_data = []\n",
    "\n",
    "  f = open(file_in)\n",
    "\n",
    "  for line in f:\n",
    "    temp_data.append(line.split())\n",
    "\n",
    "  f.close()\n",
    "\n",
    "  return temp_data"
   ]
  },
  {
   "cell_type": "code",
   "execution_count": 3,
   "id": "cc24cbef",
   "metadata": {},
   "outputs": [],
   "source": [
    "def read_dump_file(file_in):\n",
    "  \"\"\"\n",
    "  Read dump file from LAMMPS\n",
    "\n",
    "  Parameters\n",
    "  ----------\n",
    "  file_in : string\n",
    "    File (name and location) of dump file to be read\n",
    "\n",
    "  Returns\n",
    "  -------\n",
    "  labels : list\n",
    "    List of strings with labels\n",
    "  box : numpy array\n",
    "    Three dimensional numpy array (Ntimesteps x 3 x 2) with box dimensions (lo/hi)\n",
    "  data_array : numpy array\n",
    "    Three-dimensional numpy array (Ntimesteps x Nparticles x Nlabels). The Nlabels\n",
    "    values are given in the line ITEM: ATOMS ...\n",
    "\n",
    "  \"\"\"\n",
    "  \n",
    "  data = read_file(file_in)\n",
    "  \n",
    "  numberOfParticles = int(data[3][0])\n",
    "  offset = numberOfParticles + 9\n",
    "  numberOfTimesteps = int(len(data)/offset)\n",
    "  labels = data[8][2:]\n",
    "\n",
    "  box = np.zeros((numberOfTimesteps, 3, 2))  \n",
    "  data_array = np.zeros((numberOfTimesteps, numberOfParticles, len(labels)))\n",
    "  m = 0\n",
    "  for i in range(numberOfTimesteps):\n",
    "    for k in range(3):\n",
    "      box[i,k] = list(map(float, data[5+k+m*offset]))\n",
    "    for j in range(numberOfParticles):\n",
    "      data_array[i,j] = list(map(float, data[9+j+m*offset]))\n",
    "    m += 1\n",
    "  \n",
    "  return(labels, box, data_array)"
   ]
  },
  {
   "cell_type": "code",
   "execution_count": 4,
   "id": "df53a9d7",
   "metadata": {},
   "outputs": [],
   "source": [
    "def distance(r1, r2, L):\n",
    "  \"\"\"\n",
    "  Caclulate minimum distance in periodic boxes\n",
    "\n",
    "  Parameters\n",
    "  ----------\n",
    "  r1 : array\n",
    "    Vector with coordinates of particle 1\n",
    "  r2 : array\n",
    "    Vector with coordinates of particle 2\n",
    "  L : array\n",
    "    Vector with box dimensions\n",
    "\n",
    "  Returns\n",
    "  -------\n",
    "  d : scalar\n",
    "    Minimum distance between particles 1 and 2\n",
    "\n",
    "  \"\"\"\n",
    "\n",
    "  dr = abs(r1-r2)\n",
    "  dR = L - dr\n",
    "\n",
    "  minr=[]\n",
    "  for i in range(3):\n",
    "    if dr[i] < dR[i]:\n",
    "      minr.append(dr[i])\n",
    "    else:\n",
    "      minr.append(dR[i])\n",
    "\n",
    "  return(np.linalg.norm(minr))"
   ]
  },
  {
   "cell_type": "code",
   "execution_count": 5,
   "id": "14e1f473",
   "metadata": {},
   "outputs": [],
   "source": [
    "def unwrap(rf, rt, L):\n",
    "  \"\"\"\n",
    "  Unwrap coordinates of test particle (rt) in periodic boxes\n",
    "\n",
    "  Parameters\n",
    "  ----------\n",
    "  rf : array\n",
    "    Vector with coordinates of fixed particle\n",
    "  rt : array\n",
    "    Vector with coordinates of test particle\n",
    "  L : array\n",
    "    Vector with box dimensions\n",
    "\n",
    "  Returns\n",
    "  -------\n",
    "  ru : array\n",
    "    Vector with unwrapped coordinates of test particle\n",
    "\n",
    "  \"\"\"\n",
    "\n",
    "  dr = rt - rf\n",
    "  dR = L - abs(dr)\n",
    "\n",
    "  unwr=[]\n",
    "  for i in range(3):\n",
    "    if abs(dr[i]) < dR[i]:\n",
    "      unwr.append(rt[i])\n",
    "    else:\n",
    "      if dr[i] < 0:\n",
    "        unwr.append(rt[i] + L[i])\n",
    "      else:\n",
    "        unwr.append(rt[i] - L[i])\n",
    "\n",
    "  return(np.array(unwr))"
   ]
  },
  {
   "cell_type": "code",
   "execution_count": 6,
   "id": "4e058276",
   "metadata": {},
   "outputs": [],
   "source": [
    "def angle_between(v1, v2):\n",
    "  \"\"\"\n",
    "  Returns the angle in degrees between vectors v1 and v2\n",
    "    \n",
    "  Parameters\n",
    "  ----------\n",
    "  v1 : array\n",
    "    Vector\n",
    "  v2 : array\n",
    "    Vector\n",
    "  \n",
    "  Returns\n",
    "  -------\n",
    "  q : scalar\n",
    "    Angle (in degrees) between vectors v1 and v2\n",
    "    \n",
    "  \"\"\"\n",
    "  \n",
    "  v1_norm = np.linalg.norm(v1)\n",
    "  v2_norm = np.linalg.norm(v2)\n",
    "  \n",
    "  return np.arccos(np.dot(v1, v2)/(v1_norm*v2_norm))*180./np.pi"
   ]
  },
  {
   "cell_type": "markdown",
   "id": "cff1d331",
   "metadata": {},
   "source": [
    "## Definitions"
   ]
  },
  {
   "cell_type": "markdown",
   "id": "14c61123",
   "metadata": {},
   "source": [
    "Colors from Mathematica:"
   ]
  },
  {
   "cell_type": "code",
   "execution_count": 7,
   "id": "9c32fbe7",
   "metadata": {},
   "outputs": [],
   "source": [
    "colors = [(0.368417,0.506779,0.709798),\\\n",
    "          (0.880722,0.611041,0.142051),\\\n",
    "          (0.560181,0.691569,0.194885),\\\n",
    "          (0.922526,0.385626,0.209179),\\\n",
    "          (0.528488,0.470624,0.701351),\\\n",
    "          (0.772079,0.431554,0.102387),\\\n",
    "          (0.363898,0.618501,0.782349),\\\n",
    "          (1.,0.75,0.),\\\n",
    "          (0.647624,0.37816,0.614037),\\\n",
    "          (0.571589,0.586483,0.),\\\n",
    "          (0.915,0.3325,0.2125),\\\n",
    "          (0.400822,0.522007,0.85),\\\n",
    "          (0.972829,0.621644,0.073362),\\\n",
    "          (0.736783,0.358,0.503027),\\\n",
    "          (0.280264,0.715,0.429209)]"
   ]
  },
  {
   "cell_type": "markdown",
   "id": "7082993a",
   "metadata": {},
   "source": [
    "Font size:"
   ]
  },
  {
   "cell_type": "code",
   "execution_count": 8,
   "id": "94acd9d4",
   "metadata": {},
   "outputs": [],
   "source": [
    "ft = 19"
   ]
  },
  {
   "cell_type": "markdown",
   "id": "1eb5ce8d",
   "metadata": {},
   "source": [
    "LaTeX font:"
   ]
  },
  {
   "cell_type": "code",
   "execution_count": 9,
   "id": "9490c9e4",
   "metadata": {},
   "outputs": [],
   "source": [
    "# ft = 22\n",
    "# plt.rcParams.update({\n",
    "#     \"pgf.texsystem\": \"pdflatex\",\n",
    "#     \"text.usetex\": True,\n",
    "#     \"font.family\": \"sans-serif\",\n",
    "#     \"font.sans-serif\" : \"Helvetica\",\n",
    "#     \"mathtext.default\": \"regular\"})\n",
    "\n",
    "# plt.rcParams.update({\n",
    "#     \"text.usetex\": True,\n",
    "#     \"font.family\": \"Charter\"\n",
    "# })"
   ]
  },
  {
   "cell_type": "markdown",
   "id": "21fa5cfc",
   "metadata": {},
   "source": [
    "## Reference values for bonds and angles"
   ]
  },
  {
   "cell_type": "code",
   "execution_count": 10,
   "id": "fb059c8f",
   "metadata": {},
   "outputs": [],
   "source": [
    "reference_bond = {1 : 3.37698,\\\n",
    "                  2 : 3.82959,\\\n",
    "                  3 : 4.2822 ,\\\n",
    "                  4 : 3.86299,\\\n",
    "                  5 : 4.3135 ,\\\n",
    "                  6 : 4.278  ,\\\n",
    "                  7 : 3.56449}"
   ]
  },
  {
   "cell_type": "code",
   "execution_count": 11,
   "id": "1f683a76",
   "metadata": {},
   "outputs": [],
   "source": [
    "reference_angle = {1 : 180     ,\\\n",
    "                   2 : 120     ,\\\n",
    "                   3 : 176.162 ,\\\n",
    "                   4 : 172.323 ,\\\n",
    "                   5 : 116.162 ,\\\n",
    "                   6 :  63.8383,\\\n",
    "                   7 : 150     ,\\\n",
    "                   8 : 157.6   ,\\\n",
    "                   9 : 90}"
   ]
  },
  {
   "cell_type": "markdown",
   "id": "568ea5a3",
   "metadata": {},
   "source": [
    "Bonds formed in molecule 1 (they repeat for all other molecules)"
   ]
  },
  {
   "cell_type": "code",
   "execution_count": 12,
   "id": "496446ef",
   "metadata": {},
   "outputs": [],
   "source": [
    "## Format : [bond type, bead 1, bead 2]\n",
    "\n",
    "bonds = np.array(\n",
    "        [[1, 1, 10],\\\n",
    "         [1, 1, 6],\\\n",
    "         [1, 1, 2],\\\n",
    "         [1, 2, 10],\\\n",
    "         [1, 2, 6],\\\n",
    "         [1, 2, 7],\\\n",
    "         [1, 2, 3],\\\n",
    "         [1, 3, 8],\\\n",
    "         [1, 3, 7],\\\n",
    "         [1, 3, 4],\\\n",
    "         [1, 6, 12],\\\n",
    "         [1, 6, 7],\\\n",
    "         [1, 7, 8],\\\n",
    "         [1, 7, 12],\\\n",
    "         [7, 12, 20],\\\n",
    "         [1, 4, 11],\\\n",
    "         [1, 4, 9],\\\n",
    "         [1, 4, 5],\\\n",
    "         [1, 4, 8],\\\n",
    "         [1, 5, 11],\\\n",
    "         [1, 5, 9],\\\n",
    "         [4, 5, 15],\\\n",
    "         [1, 8, 9],\\\n",
    "         [2, 8, 14],\\\n",
    "         [1, 9, 13],\\\n",
    "         [2, 9, 14],\\\n",
    "         [4, 11, 19],\\\n",
    "         [3, 13, 14],\\\n",
    "         [5, 15, 16],\\\n",
    "         [6, 16, 17],\\\n",
    "         [5, 17, 18]])"
   ]
  },
  {
   "cell_type": "markdown",
   "id": "cd5c235a",
   "metadata": {},
   "source": [
    "Angles formed in molecule 1 (they repeat for all other molecules)"
   ]
  },
  {
   "cell_type": "code",
   "execution_count": 13,
   "id": "5a67f997",
   "metadata": {},
   "outputs": [],
   "source": [
    "## Format : [angle type, bead 1, bead 2, bead 3]\n",
    "\n",
    "angles = np.array(\n",
    "          [[1, 1, 2, 3],\\\n",
    "          [1, 7, 2, 10],\\\n",
    "          [2, 3, 2, 10],\\\n",
    "          [1, 2, 3, 4],\\\n",
    "          [1, 1, 6, 12],\\\n",
    "          [1, 6, 7, 8],\\\n",
    "          [1, 3, 7, 12],\\\n",
    "          [7, 7, 12, 20],\\\n",
    "          [9, 6, 12, 20],\\\n",
    "          [1, 3, 4, 5],\\\n",
    "          [1, 8, 4, 11],\\\n",
    "          [2, 3, 4, 11],\\\n",
    "          [7, 9, 5, 15],\\\n",
    "          [9, 11, 5, 15],\\\n",
    "          [1, 7, 8, 9],\\\n",
    "          [3, 3, 8, 14],\\\n",
    "          [5, 7, 8, 14],\\\n",
    "          [4, 4, 9, 13],\\\n",
    "          [3, 5, 9, 14],\\\n",
    "          [6, 13, 9, 14],\\\n",
    "          [7, 4, 11, 19],\\\n",
    "          [9, 5, 11, 19],\\\n",
    "          [8, 5, 15, 16],\\\n",
    "          [8, 15, 16, 17],\\\n",
    "          [8, 16, 17, 18]])"
   ]
  },
  {
   "cell_type": "markdown",
   "id": "3918ebb2",
   "metadata": {},
   "source": [
    "## Get data and calculate stretching and bending"
   ]
  },
  {
   "cell_type": "code",
   "execution_count": 14,
   "id": "73b0acf7",
   "metadata": {},
   "outputs": [],
   "source": [
    "pressure = [50, 75, 100, 110, 120, 130, 140, 150, 160, 170, 180, 190, 200, 210, 220, 300, 400, 700]"
   ]
  },
  {
   "cell_type": "code",
   "execution_count": 15,
   "id": "46141aca",
   "metadata": {},
   "outputs": [],
   "source": [
    "Npress = len(pressure)"
   ]
  },
  {
   "cell_type": "code",
   "execution_count": 16,
   "id": "635fdad7",
   "metadata": {},
   "outputs": [
    {
     "name": "stdout",
     "output_type": "stream",
     "text": [
      "Done pressure 50 atm\n",
      "Done pressure 75 atm\n",
      "Done pressure 100 atm\n",
      "Done pressure 110 atm\n",
      "Done pressure 120 atm\n",
      "Done pressure 130 atm\n",
      "Done pressure 140 atm\n",
      "Done pressure 150 atm\n",
      "Done pressure 160 atm\n",
      "Done pressure 170 atm\n",
      "Done pressure 180 atm\n",
      "Done pressure 190 atm\n",
      "Done pressure 200 atm\n",
      "Done pressure 210 atm\n",
      "Done pressure 220 atm\n",
      "Done pressure 300 atm\n",
      "Done pressure 400 atm\n",
      "Done pressure 700 atm\n"
     ]
    }
   ],
   "source": [
    "for ip in range(Npress):\n",
    "  file_in = '../data/' + str(pressure[ip]) + '_atm/5-production_npt/clusters.dat'\n",
    "  labels, box, data = read_dump_file(file_in)\n",
    "  Ntimesteps, Nparticles, Nlabels = data.shape\n",
    "  \n",
    "  # Atom id index\n",
    "  iid = labels.index('id')\n",
    "  \n",
    "  # Molecule index\n",
    "  imol = labels.index('mol')\n",
    "  \n",
    "  # Atom type index\n",
    "  iatype = labels.index('type')\n",
    "\n",
    "  # Coordinates index\n",
    "  ix = labels.index('x')\n",
    "  iy = labels.index('y')\n",
    "  iz = labels.index('z')\n",
    "\n",
    "  for it in range(Ntimesteps):\n",
    "    # Gather particles by molecule id\n",
    "    molecules = {}\n",
    "    for line in data[it]:\n",
    "      molid = int(line[imol])\n",
    "      if molid not in list(molecules.keys()):\n",
    "        molecules[molid] = [line]\n",
    "      else:\n",
    "        molecules[molid].append(line)\n",
    "\n",
    "    # Number of molecules\n",
    "    Nmolecules = len(molecules)\n",
    "    \n",
    "    if ip == 0 and it == 0:\n",
    "      # Number of beads per molecule\n",
    "      npm = int(Nparticles/Nmolecules)\n",
    "      # Initialize variables to store deformations\n",
    "      stretch_vec = np.zeros((Npress, Ntimesteps, Nmolecules, len(bonds)))\n",
    "      bend_vec = np.zeros((Npress, Ntimesteps, Nmolecules, len(angles)))\n",
    "      \n",
    "    # Box dimensions at current timestep\n",
    "    L = box[it][:,1] - box[it][:,0]\n",
    "\n",
    "    for i in molecules.keys():\n",
    "      # Find the indices that would sort the beads in molecule by id\n",
    "      idx = []\n",
    "      for line in molecules[i]:\n",
    "        idx.append(line[iid])\n",
    "      index = np.argsort(idx)\n",
    "      \n",
    "      # Bond deformation\n",
    "      stretch = []\n",
    "      for t, b1, b2 in bonds:\n",
    "        p1 = molecules[i][index[b1-1]][[ix, iy, iz]]\n",
    "        p2 = molecules[i][index[b2-1]][[ix, iy, iz]]\n",
    "        d12 = distance(p1, p2, L)\n",
    "        stretch.append(d12 - reference_bond[t])\n",
    "      stretch_vec[ip, it, i-1, :] = stretch\n",
    "    \n",
    "      # Angle deformation\n",
    "      bend = []\n",
    "      for t, b1, b2, b3 in angles:\n",
    "        pvertex = molecules[i][index[b2-1]][[ix, iy, iz]]\n",
    "        p1 = unwrap(pvertex, molecules[i][index[b1-1]][[ix, iy, iz]], L)\n",
    "        p3 = unwrap(pvertex, molecules[i][index[b3-1]][[ix, iy, iz]], L)\n",
    "        q123 = angle_between(p1 - pvertex, p2 - pvertex)\n",
    "        bend.append(q123 - reference_angle[t])\n",
    "      bend_vec[ip, it, i-1, :] = bend\n",
    "      \n",
    "  print('Done pressure {:d} atm'.format(pressure[ip]))"
   ]
  },
  {
   "cell_type": "markdown",
   "id": "85cf17cf",
   "metadata": {},
   "source": [
    "## Time averages"
   ]
  },
  {
   "cell_type": "markdown",
   "id": "fb4b97fe",
   "metadata": {},
   "source": [
    "Dimensions:\n",
    "\n",
    "stretch_avg : (Npress, Nmolecules, Nbonds)\\\n",
    "bend_avg    : (Npress, Nmolecules, Nangles)"
   ]
  },
  {
   "cell_type": "code",
   "execution_count": 23,
   "id": "9fdcaa65",
   "metadata": {},
   "outputs": [],
   "source": [
    "stretch_avg = np.mean(stretch_vec, axis=1)"
   ]
  },
  {
   "cell_type": "code",
   "execution_count": 24,
   "id": "9209b2ac",
   "metadata": {},
   "outputs": [],
   "source": [
    "bend_avg = np.mean(bend_vec, axis=1)"
   ]
  },
  {
   "cell_type": "markdown",
   "id": "68b17fe4",
   "metadata": {},
   "source": [
    "## Histograms"
   ]
  },
  {
   "cell_type": "markdown",
   "id": "58a74c59",
   "metadata": {},
   "source": [
    "Deformation distributions\n",
    "\n",
    "Dimensions:\n",
    "\n",
    "stretch_hst : (Npress, 1)\\\n",
    "bend_hst    : (Npress, 1)\n",
    "\n",
    "Axis 1 corresponds to 2D tuples"
   ]
  },
  {
   "cell_type": "code",
   "execution_count": 94,
   "id": "92bc8b2d",
   "metadata": {},
   "outputs": [],
   "source": [
    "smin = np.amin(stretch_avg)\n",
    "smax = np.amax(stretch_avg)\n",
    "bins = np.linspace(smin - 0.002, smax + 0.002, num=11, endpoint=True, retstep=False, dtype=None, axis=0)\n",
    "\n",
    "stretch_hst = []\n",
    "for i in range(Npress):\n",
    "  hst = np.histogram(stretch_avg[i], bins=bins)\n",
    "  stretch_hst.append(hst)"
   ]
  },
  {
   "cell_type": "code",
   "execution_count": 95,
   "id": "e17c985b",
   "metadata": {},
   "outputs": [
    {
     "name": "stdout",
     "output_type": "stream",
     "text": [
      "507\n"
     ]
    }
   ],
   "source": [
    "aux = []\n",
    "for i in range(Npress):\n",
    "  aux.append(stretch_hst[i][0])\n",
    "stmax = np.amax(aux)\n",
    "print(stmax)"
   ]
  },
  {
   "cell_type": "code",
   "execution_count": 109,
   "id": "c0344c9e",
   "metadata": {},
   "outputs": [],
   "source": [
    "bmin = np.amin(bend_avg)\n",
    "bmax = np.amax(bend_avg)\n",
    "bins = np.linspace(bmin - 2, bmax + 2, num=11, endpoint=True, retstep=False, dtype=None, axis=0)\n",
    "\n",
    "bend_hst = []\n",
    "for i in range(Npress):\n",
    "  hst = np.histogram(bend_avg[i], bins=bins)\n",
    "  bend_hst.append(hst)"
   ]
  },
  {
   "cell_type": "code",
   "execution_count": 110,
   "id": "6364918a",
   "metadata": {},
   "outputs": [
    {
     "name": "stdout",
     "output_type": "stream",
     "text": [
      "282\n"
     ]
    }
   ],
   "source": [
    "aux = []\n",
    "for i in range(Npress):\n",
    "  aux.append(bend_hst[i][0])\n",
    "bnmax = np.amax(aux)\n",
    "print(bnmax)"
   ]
  },
  {
   "cell_type": "markdown",
   "id": "45a50a42",
   "metadata": {},
   "source": [
    "### Plots"
   ]
  },
  {
   "cell_type": "markdown",
   "id": "1760b992",
   "metadata": {},
   "source": [
    "Bond stretching:"
   ]
  },
  {
   "cell_type": "code",
   "execution_count": 120,
   "id": "2cb87d78",
   "metadata": {},
   "outputs": [
    {
     "data": {
      "image/png": "[encoded data removed]",
      "text/plain": [
       "<Figure size 720x864 with 18 Axes>"
      ]
     },
     "metadata": {
      "needs_background": "light"
     },
     "output_type": "display_data"
    }
   ],
   "source": [
    "fig = plt.figure(constrained_layout=True, figsize=(10, 12))\n",
    "axs = fig.subplots(6, 3)\n",
    "lft = 10\n",
    "for nn, ax in enumerate(axs.flatten()):\n",
    "  ax.set_prop_cycle(color=colors)\n",
    "  ax.set_ylim([0, stmax+20])\n",
    "  ax.set_title('P = {:d}'.format(pressure[nn]), fontsize=lft, color='r')\n",
    "  ax.bar(stretch_hst[nn][1][:-1], stretch_hst[nn][0], align='edge', width=0.008)\n",
    "  ax.tick_params(which='both', labelsize=0.9*lft, direction=\"in\", right=True, top=True)\n",
    "plt.show()"
   ]
  },
  {
   "cell_type": "code",
   "execution_count": 118,
   "id": "ac416847",
   "metadata": {},
   "outputs": [
    {
     "data": {
      "image/png": "[encoded data removed]",
      "text/plain": [
       "<Figure size 576x576 with 1 Axes>"
      ]
     },
     "metadata": {
      "needs_background": "light"
     },
     "output_type": "display_data"
    }
   ],
   "source": [
    "plt.figure(figsize=(8,8))\n",
    "plt.gca().set_prop_cycle(color=colors)\n",
    "plt.bar(stretch_hst[-1][1][:-1]-0.002, stretch_hst[-1][0], align='edge', width=0.004, label='700 atm')\n",
    "plt.bar(stretch_hst[5][1][:-1]+0.002, stretch_hst[5][0], align='edge', width=0.004, label='130 atm')\n",
    "plt.tick_params(which='both', labelsize=0.9*ft, direction=\"in\", right=True, top=True)\n",
    "plt.legend(loc='upper right', fontsize=0.7*ft, frameon=False)\n",
    "plt.show()\n",
    "    "
   ]
  },
  {
   "cell_type": "markdown",
   "id": "0f2b073c",
   "metadata": {},
   "source": [
    "Angle bending:"
   ]
  },
  {
   "cell_type": "code",
   "execution_count": 119,
   "id": "6ad91e41",
   "metadata": {},
   "outputs": [
    {
     "data": {
      "image/png": "[encoded data removed]",
      "text/plain": [
       "<Figure size 720x864 with 18 Axes>"
      ]
     },
     "metadata": {
      "needs_background": "light"
     },
     "output_type": "display_data"
    }
   ],
   "source": [
    "fig = plt.figure(constrained_layout=True, figsize=(10, 12))\n",
    "axs = fig.subplots(6, 3)\n",
    "lft = 10\n",
    "for nn, ax in enumerate(axs.flatten()):\n",
    "  ax.set_prop_cycle(color=colors)\n",
    "  ax.set_ylim([0, bnmax+10])\n",
    "  ax.set_xlim([-180, 180])\n",
    "  ax.set_title('P = {:d}'.format(pressure[nn]), fontsize=lft, color='r')\n",
    "  ax.bar(bend_hst[nn][1][:-1], bend_hst[nn][0], align='edge', width=10)\n",
    "  ax.tick_params(which='both', labelsize=0.9*lft, direction=\"in\", right=True, top=True)\n",
    "plt.show()"
   ]
  },
  {
   "cell_type": "code",
   "execution_count": null,
   "id": "f0447259",
   "metadata": {},
   "outputs": [],
   "source": []
  }
 ],
 "metadata": {
  "kernelspec": {
   "display_name": "Python 3 (ipykernel)",
   "language": "python",
   "name": "python3"
  },
  "language_info": {
   "codemirror_mode": {
    "name": "ipython",
    "version": 3
   },
   "file_extension": ".py",
   "mimetype": "text/x-python",
   "name": "python",
   "nbconvert_exporter": "python",
   "pygments_lexer": "ipython3",
   "version": "3.10.9"
  }
 },
 "nbformat": 4,
 "nbformat_minor": 5
}
